{
 "cells": [
  {
   "cell_type": "code",
   "execution_count": 15,
   "id": "09a20dea-0e4f-498a-a823-0dde8fab6b4c",
   "metadata": {},
   "outputs": [],
   "source": [
    "from qiskit_experiments.library import StateTomography\n",
    "from qiskit import QuantumCircuit, execute, Aer\n",
    "import numpy as np\n",
    "import matplotlib.pyplot as plt\n",
    "import qiskit.quantum_info as qi\n",
    "from qiskit.visualization import plot_histogram, array_to_latex\n",
    "from qiskit.providers.aer import AerSimulator\n",
    "from qiskit.providers.fake_provider import FakeParis\n",
    "from qiskit.quantum_info import partial_trace, DensityMatrix\n",
    "from qiskit.visualization import plot_state_city"
   ]
  },
  {
   "cell_type": "code",
   "execution_count": 36,
   "id": "f6c4055f-d4d6-4692-a07c-524f1da611cf",
   "metadata": {},
   "outputs": [],
   "source": [
    "# we define the range for the phase difference, such it can take all of the following values:\n",
    "n = 20\n",
    "s = [i * 2 * np.pi / n for i in range(n)]\n",
    "#s"
   ]
  },
  {
   "cell_type": "markdown",
   "id": "b6d125e2-739d-4dd5-b3c6-12d2e4c6d8d9",
   "metadata": {},
   "source": [
    "For $U_+ = CR_y(\\theta)$"
   ]
  },
  {
   "cell_type": "code",
   "execution_count": 37,
   "id": "3f16d471-a44a-458e-adca-8e093f4f89c7",
   "metadata": {},
   "outputs": [],
   "source": [
    "theta1 = np.pi/4\n",
    "rho_p = []\n",
    "\n",
    "for theta in s:\n",
    "    q1 = QuantumCircuit(2)\n",
    "    q1.ry(2*theta1,0) # symmetric beam-splitter\n",
    "    q1.cry(theta,0,1,ctrl_state = 0) # U operator for polarization\n",
    "    st = StateTomography(q1)\n",
    "\n",
    "    backend = AerSimulator.from_backend(FakeParis())\n",
    "    st_data = st.run(backend).block_for_results()\n",
    "    state_result = st_data.analysis_results(\"state\")\n",
    "    p = partial_trace(state_result.value,[0])\n",
    "    rho_p.append(p)\n"
   ]
  },
  {
   "cell_type": "code",
   "execution_count": 38,
   "id": "a694a2d1-6c8d-49e5-9831-cda08da6e9e8",
   "metadata": {},
   "outputs": [
    {
     "data": {
      "image/png": "[encoded data removed]",
      "text/plain": [
       "<Figure size 287.294x200.667 with 1 Axes>"
      ]
     },
     "execution_count": 38,
     "metadata": {},
     "output_type": "execute_result"
    }
   ],
   "source": [
    "q1.draw('mpl')"
   ]
  },
  {
   "cell_type": "markdown",
   "id": "c96b5bb1-5b5a-4a80-8298-c4170fe86152",
   "metadata": {},
   "source": [
    "For $U_- = I$"
   ]
  },
  {
   "cell_type": "code",
   "execution_count": 39,
   "id": "9181d796-62a1-45e6-932e-a780ceac67d7",
   "metadata": {},
   "outputs": [],
   "source": [
    "theta1 = np.pi/4\n",
    "rho_m = []\n",
    "\n",
    "for theta in s:\n",
    "    q1 = QuantumCircuit(2)\n",
    "    q1.ry(2*theta1,0) # symmetric beam-splitter\n",
    "    #q1.cry(theta,0,1,ctrl_state = 0) # U operator for polarization\n",
    "    st = StateTomography(q1)\n",
    "\n",
    "    backend = AerSimulator.from_backend(FakeParis())\n",
    "    st_data = st.run(backend).block_for_results()\n",
    "    state_result = st_data.analysis_results(\"state\")\n",
    "    p = partial_trace(state_result.value,[0])\n",
    "    rho_m.append(p)\n"
   ]
  },
  {
   "cell_type": "code",
   "execution_count": 40,
   "id": "388ffd2f-390f-4130-8003-cb0c2b96cd79",
   "metadata": {},
   "outputs": [
    {
     "data": {
      "image/png": "[encoded data removed]",
      "text/plain": [
       "<Figure size 203.683x200.667 with 1 Axes>"
      ]
     },
     "execution_count": 40,
     "metadata": {},
     "output_type": "execute_result"
    }
   ],
   "source": [
    "q1.draw('mpl')"
   ]
  },
  {
   "cell_type": "code",
   "execution_count": 45,
   "id": "269c971c-fa0f-4d51-8121-1be6b4ebbc6d",
   "metadata": {},
   "outputs": [],
   "source": [
    "d = []\n",
    "for i in range(20):\n",
    "    d.append(((np.abs(rho_p[i] - rho_m[i])).trace()))"
   ]
  },
  {
   "cell_type": "code",
   "execution_count": 104,
   "id": "bacbdad4-ca85-4736-8401-5261105e31b2",
   "metadata": {},
   "outputs": [
    {
     "ename": "TypeError",
     "evalue": "'numpy.int32' object is not iterable",
     "output_type": "error",
     "traceback": [
      "\u001b[1;31m---------------------------------------------------------------------------\u001b[0m",
      "\u001b[1;31mTypeError\u001b[0m                                 Traceback (most recent call last)",
      "Cell \u001b[1;32mIn[104], line 3\u001b[0m\n\u001b[0;32m      1\u001b[0m d1 \u001b[38;5;241m=\u001b[39m []\n\u001b[0;32m      2\u001b[0m \u001b[38;5;28;01mfor\u001b[39;00m i \u001b[38;5;129;01min\u001b[39;00m \u001b[38;5;28mrange\u001b[39m(\u001b[38;5;241m20\u001b[39m):\n\u001b[1;32m----> 3\u001b[0m     d1\u001b[38;5;241m.\u001b[39mappend(((np\u001b[38;5;241m.\u001b[39msqrt((\u001b[43m(\u001b[49m\u001b[43mrho_p\u001b[49m\u001b[43m[\u001b[49m\u001b[43mi\u001b[49m\u001b[43m]\u001b[49m\u001b[43m \u001b[49m\u001b[38;5;241;43m-\u001b[39;49m\u001b[43m \u001b[49m\u001b[43mrho_m\u001b[49m\u001b[43m[\u001b[49m\u001b[43mi\u001b[49m\u001b[43m]\u001b[49m\u001b[43m)\u001b[49m\u001b[38;5;241;43m.\u001b[39;49m\u001b[43mconjugate\u001b[49m\u001b[43m(\u001b[49m\u001b[43m)\u001b[49m\u001b[38;5;241;43m.\u001b[39;49m\u001b[43mpartial_transpose\u001b[49m\u001b[43m(\u001b[49m\u001b[38;5;241;43m0\u001b[39;49m\u001b[43m)\u001b[49m) \u001b[38;5;241m*\u001b[39m (rho_p[i] \u001b[38;5;241m-\u001b[39m rho_m[i])))\u001b[38;5;241m.\u001b[39mtrace()))\n",
      "File \u001b[1;32m~\\AppData\\Roaming\\Python\\Python311\\site-packages\\qiskit\\quantum_info\\states\\densitymatrix.py:844\u001b[0m, in \u001b[0;36mDensityMatrix.partial_transpose\u001b[1;34m(self, qargs)\u001b[0m\n\u001b[0;32m    842\u001b[0m n \u001b[38;5;241m=\u001b[39m \u001b[38;5;28mlen\u001b[39m(\u001b[38;5;28mself\u001b[39m\u001b[38;5;241m.\u001b[39mdims())\n\u001b[0;32m    843\u001b[0m lst \u001b[38;5;241m=\u001b[39m \u001b[38;5;28mlist\u001b[39m(\u001b[38;5;28mrange\u001b[39m(\u001b[38;5;241m2\u001b[39m \u001b[38;5;241m*\u001b[39m n))\n\u001b[1;32m--> 844\u001b[0m \u001b[38;5;28;01mfor\u001b[39;00m i \u001b[38;5;129;01min\u001b[39;00m qargs:\n\u001b[0;32m    845\u001b[0m     lst[i], lst[i \u001b[38;5;241m+\u001b[39m n] \u001b[38;5;241m=\u001b[39m lst[i \u001b[38;5;241m+\u001b[39m n], lst[i]\n\u001b[0;32m    846\u001b[0m rho \u001b[38;5;241m=\u001b[39m np\u001b[38;5;241m.\u001b[39mtranspose(arr, lst)\n",
      "\u001b[1;31mTypeError\u001b[0m: 'numpy.int32' object is not iterable"
     ]
    }
   ],
   "source": [
    "d1 = []\n",
    "for i in range(20):\n",
    "    d1.append(((np.sqrt(((rho_p[i] - rho_m[i]).conjugate().partial_transpose(0)) * (rho_p[i] - rho_m[i]))).trace()))"
   ]
  },
  {
   "cell_type": "code",
   "execution_count": 47,
   "id": "0ad6b2f4-e208-46c6-b397-2ad52d96b214",
   "metadata": {},
   "outputs": [],
   "source": [
    "import matplotlib.pyplot as plt\n",
    "from matplotlib.pyplot import*"
   ]
  },
  {
   "cell_type": "code",
   "execution_count": 48,
   "id": "d177ce8a-166f-4d82-9392-fb9fddf96bd5",
   "metadata": {},
   "outputs": [
    {
     "data": {
      "image/png": "[encoded data removed]",
      "text/plain": [
       "<Figure size 640x480 with 1 Axes>"
      ]
     },
     "metadata": {},
     "output_type": "display_data"
    },
    {
     "data": {
      "text/plain": [
       "<Figure size 640x480 with 0 Axes>"
      ]
     },
     "metadata": {},
     "output_type": "display_data"
    }
   ],
   "source": [
    "# We can also visualize all the probabilities for all possible values of phi by plotting the probs p0 and p1\n",
    "fig, ax = plt.subplots()\n",
    "\n",
    "errorbar(s,d,fmt='b.',capsize=5,label=r\"$D$\",markersize=12)\n",
    "\n",
    "ax.set_title('Two degrees of freedom - Pure state ', size=14)\n",
    "#xlabel(r\"$\\phi$\",fontsize=20);\n",
    "#ylabel(r\"$P$\",fontsize=20);\n",
    "xticks(fontsize=10); #s,rotation='horizontal',\n",
    "yticks(fontsize=10);\n",
    "legend(fontsize=10);\n",
    "plt.xlabel(\"$\\Theta$\",size=14)\n",
    "plt.ylabel(\"Value\",size=14)\n",
    "ax.set_xlim(-0.05, 6)\n",
    "ax.set_ylim(-0.05, 1.1)\n",
    "grid(\"on\")\n",
    "plt.legend()\n",
    "\n",
    "fig1 = plt.gcf()\n",
    "plt.show()\n",
    "plt.draw()"
   ]
  },
  {
   "cell_type": "code",
   "execution_count": 77,
   "id": "5861d0e8-4a46-4c79-afc9-59046aebee71",
   "metadata": {},
   "outputs": [],
   "source": [
    "rho_md = []\n",
    "d1 = []\n",
    "for i in range(20):\n",
    "    eigenvalues, eigenvectors = np.linalg.eig(rho_m[i])\n",
    "    d1.append(np.diag(eigenvalues))\n",
    "    p_inv = np.linalg.inv(eigenvectors)\n",
    "    rho_md.append(np.dot(p_inv,np.dot(rho_m[i],eigenvectors)))"
   ]
  },
  {
   "cell_type": "code",
   "execution_count": 78,
   "id": "80ebc97f-5086-4123-a53f-6f147d9e6ac7",
   "metadata": {},
   "outputs": [],
   "source": [
    "rho_pd = []\n",
    "d2 = []\n",
    "for i in range(20):\n",
    "    eigenvalues, eigenvectors = np.linalg.eig(rho_p[i])\n",
    "    d2.append(np.diag(eigenvalues))\n",
    "    p_inv = np.linalg.inv(eigenvectors)\n",
    "    rho_pd.append(np.dot(p_inv,np.dot(rho_p[i],eigenvectors)))"
   ]
  },
  {
   "cell_type": "code",
   "execution_count": 82,
   "id": "a33bdc2a-7341-4726-a963-31dcdb8ea874",
   "metadata": {},
   "outputs": [
    {
     "name": "stdout",
     "output_type": "stream",
     "text": [
      "DensityMatrix([[ 0.7405599 +0.j        , -0.22949219-0.02734375j],\n",
      "               [-0.22949219+0.02734375j,  0.2594401 +0.j        ]],\n",
      "              dims=(2,))\n"
     ]
    }
   ],
   "source": [
    "rho_p[15]"
   ]
  },
  {
   "cell_type": "code",
   "execution_count": 83,
   "id": "0ba2682c-77e5-42d8-a36b-5f1efbe06568",
   "metadata": {},
   "outputs": [
    {
     "data": {
      "text/plain": [
       "array([[ 8.33591679e-01+1.73472348e-18j, -9.71445147e-17-1.47451495e-17j],\n",
       "       [ 0.00000000e+00+6.93889390e-18j,  1.66408321e-01+1.17555956e-18j]])"
      ]
     },
     "execution_count": 83,
     "metadata": {},
     "output_type": "execute_result"
    }
   ],
   "source": [
    "rho_pd[15]"
   ]
  },
  {
   "cell_type": "code",
   "execution_count": 84,
   "id": "48063301-9040-4878-b593-d5fad0728cbb",
   "metadata": {},
   "outputs": [
    {
     "data": {
      "text/plain": [
       "array([[0.83359168-1.20183265e-18j, 0.        +0.00000000e+00j],\n",
       "       [0.        +0.00000000e+00j, 0.16640832+1.20183265e-18j]])"
      ]
     },
     "execution_count": 84,
     "metadata": {},
     "output_type": "execute_result"
    }
   ],
   "source": [
    "d2[15]"
   ]
  },
  {
   "cell_type": "code",
   "execution_count": 93,
   "id": "943ddc15-6fe7-4a1b-a4e2-84953a7bf8ed",
   "metadata": {},
   "outputs": [
    {
     "data": {
      "text/plain": [
       "array([[0.83359168+1.20183265e-18j, 0.        -0.00000000e+00j],\n",
       "       [0.        -0.00000000e+00j, 0.16640832-1.20183265e-18j]])"
      ]
     },
     "execution_count": 93,
     "metadata": {},
     "output_type": "execute_result"
    }
   ],
   "source": [
    "d2[15].conj().T"
   ]
  },
  {
   "cell_type": "code",
   "execution_count": 89,
   "id": "0ba71e67-9ae7-4902-8b4b-d6f387f79111",
   "metadata": {},
   "outputs": [],
   "source": [
    "di = []\n",
    "for i in range(20):\n",
    "    di.append(((np.sqrt((d2[i] - d1[i]).conj().T*(d2[i] - d1[i]))).trace()))"
   ]
  },
  {
   "cell_type": "code",
   "execution_count": 90,
   "id": "fa4eb7b5-80ff-43a8-b22b-3043f906be47",
   "metadata": {},
   "outputs": [
    {
     "data": {
      "image/png": "[encoded data removed]",
      "text/plain": [
       "<Figure size 640x480 with 1 Axes>"
      ]
     },
     "metadata": {},
     "output_type": "display_data"
    },
    {
     "data": {
      "text/plain": [
       "<Figure size 640x480 with 0 Axes>"
      ]
     },
     "metadata": {},
     "output_type": "display_data"
    }
   ],
   "source": [
    "# We can also visualize all the probabilities for all possible values of phi by plotting the probs p0 and p1\n",
    "fig, ax = plt.subplots()\n",
    "\n",
    "errorbar(s,di,fmt='b.',capsize=5,label=r\"$D$\",markersize=12)\n",
    "\n",
    "ax.set_title('Two degrees of freedom - Pure state ', size=14)\n",
    "#xlabel(r\"$\\phi$\",fontsize=20);\n",
    "#ylabel(r\"$P$\",fontsize=20);\n",
    "xticks(fontsize=10); #s,rotation='horizontal',\n",
    "yticks(fontsize=10);\n",
    "legend(fontsize=10);\n",
    "plt.xlabel(\"$\\Theta$\",size=14)\n",
    "plt.ylabel(\"Value\",size=14)\n",
    "ax.set_xlim(-0.05, 6)\n",
    "ax.set_ylim(-0.05, 1.1)\n",
    "grid(\"on\")\n",
    "plt.legend()\n",
    "\n",
    "fig1 = plt.gcf()\n",
    "plt.show()\n",
    "plt.draw()"
   ]
  },
  {
   "cell_type": "markdown",
   "id": "d3cc08a8-87f5-420e-81ac-335df56f74c5",
   "metadata": {},
   "source": [
    "The following is to know if the matrices are diagonalizable:"
   ]
  },
  {
   "cell_type": "code",
   "execution_count": 107,
   "id": "2cb218d7-4423-4afa-9b4b-6519866ce828",
   "metadata": {},
   "outputs": [],
   "source": [
    "w = []\n",
    "for i in range(20):\n",
    "    w.append(np.array_equal(rho_p[i], np.diag(np.diag(rho_p[i]))))"
   ]
  },
  {
   "cell_type": "code",
   "execution_count": 108,
   "id": "c91d448c-6086-4cd2-b23e-2f8700d0ede0",
   "metadata": {},
   "outputs": [
    {
     "data": {
      "text/plain": [
       "[False,\n",
       " False,\n",
       " False,\n",
       " False,\n",
       " False,\n",
       " False,\n",
       " False,\n",
       " False,\n",
       " False,\n",
       " False,\n",
       " False,\n",
       " False,\n",
       " False,\n",
       " False,\n",
       " False,\n",
       " False,\n",
       " False,\n",
       " False,\n",
       " False,\n",
       " False]"
      ]
     },
     "execution_count": 108,
     "metadata": {},
     "output_type": "execute_result"
    }
   ],
   "source": [
    "w"
   ]
  },
  {
   "cell_type": "code",
   "execution_count": 109,
   "id": "1ed053cb-6441-4f87-947a-734e3aff6fa5",
   "metadata": {},
   "outputs": [],
   "source": [
    "w1 = []\n",
    "for i in range(20):\n",
    "    w1.append(np.array_equal(rho_m[i], np.diag(np.diag(rho_m[i]))))"
   ]
  },
  {
   "cell_type": "code",
   "execution_count": 110,
   "id": "7c5c0649-b80f-4573-8794-f4c85dce9d56",
   "metadata": {},
   "outputs": [
    {
     "data": {
      "text/plain": [
       "[False,\n",
       " False,\n",
       " False,\n",
       " False,\n",
       " False,\n",
       " False,\n",
       " False,\n",
       " False,\n",
       " False,\n",
       " False,\n",
       " False,\n",
       " False,\n",
       " False,\n",
       " False,\n",
       " False,\n",
       " False,\n",
       " False,\n",
       " False,\n",
       " False,\n",
       " False]"
      ]
     },
     "execution_count": 110,
     "metadata": {},
     "output_type": "execute_result"
    }
   ],
   "source": [
    "w1"
   ]
  },
  {
   "cell_type": "code",
   "execution_count": null,
   "id": "4756cf09-0bb8-49f9-ab38-f1414df7d73c",
   "metadata": {},
   "outputs": [],
   "source": []
  }
 ],
 "metadata": {
  "kernelspec": {
   "display_name": "Python 3 (ipykernel)",
   "language": "python",
   "name": "python3"
  },
  "language_info": {
   "codemirror_mode": {
    "name": "ipython",
    "version": 3
   },
   "file_extension": ".py",
   "mimetype": "text/x-python",
   "name": "python",
   "nbconvert_exporter": "python",
   "pygments_lexer": "ipython3",
   "version": "3.11.4"
  }
 },
 "nbformat": 4,
 "nbformat_minor": 5
}
